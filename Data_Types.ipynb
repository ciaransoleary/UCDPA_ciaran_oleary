{
  "cells": [
    {
      "cell_type": "markdown",
      "metadata": {
        "id": "o5FMacnOvf8w"
      },
      "source": [
        "# Data Types and Operations"
      ]
    },
    {
      "cell_type": "markdown",
      "metadata": {
        "id": "q-lUfVuFvf8x"
      },
      "source": [
        "## Fundamental Data Types"
      ]
    },
    {
      "cell_type": "markdown",
      "metadata": {
        "id": "IQxAlZOEvf8y"
      },
      "source": [
        "### Booleans"
      ]
    },
    {
      "cell_type": "code",
      "execution_count": null,
      "metadata": {
        "id": "Svl8JmKrvf8y",
        "outputId": "28b70991-15e7-4821-ed6c-1d768c8e33e2"
      },
      "outputs": [
        {
          "data": {
            "text/plain": [
              "True"
            ]
          },
          "execution_count": 390,
          "metadata": {},
          "output_type": "execute_result"
        }
      ],
      "source": [
        "True"
      ]
    },
    {
      "cell_type": "code",
      "execution_count": null,
      "metadata": {
        "id": "ufwwqWFFvf8z",
        "outputId": "7af90d25-89d4-4f18-f7e6-2548a2b6cb80"
      },
      "outputs": [
        {
          "data": {
            "text/plain": [
              "False"
            ]
          },
          "execution_count": 2,
          "metadata": {},
          "output_type": "execute_result"
        }
      ],
      "source": [
        "False"
      ]
    },
    {
      "cell_type": "markdown",
      "metadata": {
        "id": "WWJbAP8hvf80"
      },
      "source": [
        "### Integers"
      ]
    },
    {
      "cell_type": "markdown",
      "metadata": {
        "id": "JVSeJ8M1vf80"
      },
      "source": [
        "Any whole number (1,2,3,4,...)"
      ]
    },
    {
      "cell_type": "code",
      "execution_count": null,
      "metadata": {
        "id": "4fvW7Eskvf80",
        "outputId": "62542946-a15a-45bf-ba55-40ad2d1e4e1f"
      },
      "outputs": [
        {
          "data": {
            "text/plain": [
              "int"
            ]
          },
          "execution_count": 1,
          "metadata": {},
          "output_type": "execute_result"
        }
      ],
      "source": [
        "type(10)"
      ]
    },
    {
      "cell_type": "markdown",
      "metadata": {
        "id": "tIB9Bhlfvf80"
      },
      "source": [
        "### Floats"
      ]
    },
    {
      "cell_type": "markdown",
      "metadata": {
        "id": "2LAVX3GGvf80"
      },
      "source": [
        "Any number with a decimal (floating) point"
      ]
    },
    {
      "cell_type": "code",
      "execution_count": null,
      "metadata": {
        "id": "0IcPIp5Jvf81",
        "outputId": "bdbf9920-6282-4b34-f005-30d5d60a32f5"
      },
      "outputs": [
        {
          "data": {
            "text/plain": [
              "float"
            ]
          },
          "execution_count": 398,
          "metadata": {},
          "output_type": "execute_result"
        }
      ],
      "source": [
        "pi = 3.14\n",
        "type(pi)"
      ]
    },
    {
      "cell_type": "markdown",
      "metadata": {
        "id": "2CpldkK-vf81"
      },
      "source": [
        "### Strings"
      ]
    },
    {
      "cell_type": "markdown",
      "metadata": {
        "id": "Igddnttsvf81"
      },
      "source": [
        "Anything contained within single, double, or triple quotes. "
      ]
    },
    {
      "cell_type": "code",
      "execution_count": null,
      "metadata": {
        "id": "kWqD8_pHvf81"
      },
      "outputs": [],
      "source": [
        "sentence = 'Hello, how are you?'"
      ]
    },
    {
      "cell_type": "code",
      "execution_count": null,
      "metadata": {
        "id": "fx0c35yivf81",
        "outputId": "9e496284-193e-4b80-a4d7-2d2added3b87"
      },
      "outputs": [
        {
          "data": {
            "text/plain": [
              "str"
            ]
          },
          "execution_count": 401,
          "metadata": {},
          "output_type": "execute_result"
        }
      ],
      "source": [
        "type(sentence)"
      ]
    },
    {
      "cell_type": "code",
      "execution_count": null,
      "metadata": {
        "id": "nOsfaj8zvf82",
        "outputId": "3c6fe158-bc07-4779-d3b6-4d30ae2d508b"
      },
      "outputs": [
        {
          "data": {
            "text/plain": [
              "str"
            ]
          },
          "execution_count": 403,
          "metadata": {},
          "output_type": "execute_result"
        }
      ],
      "source": [
        "looks_like_an_integer = \"25\"\n",
        "type(looks_like_an_integer)"
      ]
    },
    {
      "cell_type": "markdown",
      "metadata": {
        "id": "Lbch6PC-vf82"
      },
      "source": [
        "## Operators"
      ]
    },
    {
      "cell_type": "markdown",
      "metadata": {
        "id": "JFVy12Pevf82"
      },
      "source": [
        "### Arithmetic Operators"
      ]
    },
    {
      "cell_type": "code",
      "execution_count": null,
      "metadata": {
        "id": "Qzykk3_Nvf82",
        "outputId": "21094d51-5ef2-4078-eb6b-683eb40b9a6c"
      },
      "outputs": [
        {
          "data": {
            "text/plain": [
              "5"
            ]
          },
          "execution_count": 365,
          "metadata": {},
          "output_type": "execute_result"
        }
      ],
      "source": [
        "2 + 3 # Addition"
      ]
    },
    {
      "cell_type": "code",
      "execution_count": null,
      "metadata": {
        "id": "M67sV4Pkvf82",
        "outputId": "74626813-f92f-437c-d60c-4b76cb87725c"
      },
      "outputs": [
        {
          "data": {
            "text/plain": [
              "'Hello World'"
            ]
          },
          "execution_count": 366,
          "metadata": {},
          "output_type": "execute_result"
        }
      ],
      "source": [
        "'Hello' + ' World' # Works on strings too!"
      ]
    },
    {
      "cell_type": "code",
      "execution_count": null,
      "metadata": {
        "id": "SvASDuuKvf83",
        "outputId": "171f943c-00d9-45fa-dc04-6b69967eef23"
      },
      "outputs": [
        {
          "data": {
            "text/plain": [
              "3"
            ]
          },
          "execution_count": 368,
          "metadata": {},
          "output_type": "execute_result"
        }
      ],
      "source": [
        "10 - 7 # Subtraction"
      ]
    },
    {
      "cell_type": "code",
      "execution_count": null,
      "metadata": {
        "id": "VFgQ3UyKvf83",
        "outputId": "c1f1eae6-46be-4524-8608-7a9d4da4ae21"
      },
      "outputs": [
        {
          "data": {
            "text/plain": [
              "20"
            ]
          },
          "execution_count": 370,
          "metadata": {},
          "output_type": "execute_result"
        }
      ],
      "source": [
        "4 * 5 # Multiplication"
      ]
    },
    {
      "cell_type": "code",
      "execution_count": null,
      "metadata": {
        "id": "1aSk79FDvf83",
        "outputId": "3bbb54e4-dc8a-4957-992d-e3612bcba752"
      },
      "outputs": [
        {
          "data": {
            "text/plain": [
              "'Go On Go On Go On Go On Go On '"
            ]
          },
          "execution_count": 528,
          "metadata": {},
          "output_type": "execute_result"
        }
      ],
      "source": [
        "'Go On ' * 5 # Multiplication works on strings too!"
      ]
    },
    {
      "cell_type": "code",
      "execution_count": null,
      "metadata": {
        "id": "gz1e8KIhvf83",
        "outputId": "bd26483b-1795-417a-9b2d-8a1a8bdd0e73"
      },
      "outputs": [
        {
          "data": {
            "text/plain": [
              "2.0"
            ]
          },
          "execution_count": 360,
          "metadata": {},
          "output_type": "execute_result"
        }
      ],
      "source": [
        "8 / 4 # Division - Notice how it returns a float, even for whole numbers"
      ]
    },
    {
      "cell_type": "code",
      "execution_count": null,
      "metadata": {
        "id": "56s0_n2Vvf84",
        "outputId": "043760a2-6273-429a-ac5c-06748e0db9b1"
      },
      "outputs": [
        {
          "data": {
            "text/plain": [
              "4"
            ]
          },
          "execution_count": 361,
          "metadata": {},
          "output_type": "execute_result"
        }
      ],
      "source": [
        "9 // 2 # Floor Division - Number of full divisions; discards the remainder"
      ]
    },
    {
      "cell_type": "code",
      "execution_count": null,
      "metadata": {
        "id": "MDJEq4kLvf84",
        "outputId": "e3857d58-a668-490c-a245-9e8b2e92946b"
      },
      "outputs": [
        {
          "data": {
            "text/plain": [
              "1"
            ]
          },
          "execution_count": 372,
          "metadata": {},
          "output_type": "execute_result"
        }
      ],
      "source": [
        "9 % 2 # The remainder after division – Useful for finding odd numbers"
      ]
    },
    {
      "cell_type": "code",
      "execution_count": null,
      "metadata": {
        "id": "LVEv2rkJvf84",
        "outputId": "3536c561-bb82-4ed7-9743-8f4a9baf8b18"
      },
      "outputs": [
        {
          "data": {
            "text/plain": [
              "16"
            ]
          },
          "execution_count": 373,
          "metadata": {},
          "output_type": "execute_result"
        }
      ],
      "source": [
        "4 ** 2 # Exponent – Raises to the power of"
      ]
    },
    {
      "cell_type": "markdown",
      "metadata": {
        "id": "E33CxnX5vf84"
      },
      "source": [
        "### Assignment Operators"
      ]
    },
    {
      "cell_type": "code",
      "execution_count": null,
      "metadata": {
        "id": "8o9drFgdvf85"
      },
      "outputs": [],
      "source": [
        "x = 10         # Assigning a number\n",
        "colour = 'Red' # Assigning a string"
      ]
    },
    {
      "cell_type": "code",
      "execution_count": null,
      "metadata": {
        "id": "a7BdCITbvf85",
        "outputId": "fbd66035-2b49-4680-99d1-e722d0ff9cdf"
      },
      "outputs": [
        {
          "name": "stdout",
          "output_type": "stream",
          "text": [
            "2\n"
          ]
        }
      ],
      "source": [
        "# To make a counter\n",
        "i = 1      # Start at 1\n",
        "i = i + 1  # Add 1 to it\n",
        "print(i)   # Print out the result"
      ]
    },
    {
      "cell_type": "code",
      "execution_count": null,
      "metadata": {
        "id": "6xvxXarTvf85",
        "outputId": "129de9b2-f544-49a6-bef6-776f447603e9"
      },
      "outputs": [
        {
          "name": "stdout",
          "output_type": "stream",
          "text": [
            "3\n"
          ]
        }
      ],
      "source": [
        "i += 1     # We can use this shorthand for combining Addition + Assignment\n",
        "print(i)"
      ]
    },
    {
      "cell_type": "code",
      "execution_count": null,
      "metadata": {
        "id": "uPgMkjJYvf85",
        "outputId": "4c4c5f60-f0b7-471c-d681-f6e3f8cb856b"
      },
      "outputs": [
        {
          "name": "stdout",
          "output_type": "stream",
          "text": [
            "6\n"
          ]
        }
      ],
      "source": [
        "i *= 2   # Works for other arithmetic operators too\n",
        "print(i)"
      ]
    },
    {
      "cell_type": "markdown",
      "metadata": {
        "id": "HLn4R1UDvf85"
      },
      "source": [
        "### Boolean Operators"
      ]
    },
    {
      "cell_type": "markdown",
      "metadata": {
        "id": "HQks54I4vf85"
      },
      "source": [
        "Think of these like you are asking a question"
      ]
    },
    {
      "cell_type": "code",
      "execution_count": null,
      "metadata": {
        "id": "7SRkJnJhvf86",
        "outputId": "f6091dcc-21c1-4afa-b65f-14ec455943b3"
      },
      "outputs": [
        {
          "data": {
            "text/plain": [
              "False"
            ]
          },
          "execution_count": 385,
          "metadata": {},
          "output_type": "execute_result"
        }
      ],
      "source": [
        "x > 10  # Is x greater than 10?"
      ]
    },
    {
      "cell_type": "code",
      "execution_count": null,
      "metadata": {
        "id": "Y8zKLuS3vf86",
        "outputId": "62cac716-a49e-4f49-d842-aad685ae7e82"
      },
      "outputs": [
        {
          "data": {
            "text/plain": [
              "True"
            ]
          },
          "execution_count": 392,
          "metadata": {},
          "output_type": "execute_result"
        }
      ],
      "source": [
        "x >= 10 # Greater than, or equal to"
      ]
    },
    {
      "cell_type": "code",
      "execution_count": null,
      "metadata": {
        "id": "xMl8JCoYvf86",
        "outputId": "390bad41-59e8-4682-b198-c67bcc5bd449"
      },
      "outputs": [
        {
          "data": {
            "text/plain": [
              "True"
            ]
          },
          "execution_count": 395,
          "metadata": {},
          "output_type": "execute_result"
        }
      ],
      "source": [
        "x == 10 # We have already used equals (=) for assignment, so we have to use double equals (==)"
      ]
    },
    {
      "cell_type": "code",
      "execution_count": null,
      "metadata": {
        "id": "zaBAgjTcvf86",
        "outputId": "716c106a-38b3-490d-9401-b01de1f87519"
      },
      "outputs": [
        {
          "data": {
            "text/plain": [
              "True"
            ]
          },
          "execution_count": 4,
          "metadata": {},
          "output_type": "execute_result"
        }
      ],
      "source": [
        "x != 1  # The exclamation mark means not"
      ]
    },
    {
      "cell_type": "markdown",
      "metadata": {
        "id": "ebwmAwC2vf86"
      },
      "source": [
        "### Logical Operators"
      ]
    },
    {
      "cell_type": "code",
      "execution_count": null,
      "metadata": {
        "id": "aOuuf8Xzvf9E"
      },
      "outputs": [],
      "source": [
        "x = 15"
      ]
    },
    {
      "cell_type": "code",
      "execution_count": null,
      "metadata": {
        "id": "sv3u_Wxcvf9F",
        "outputId": "c5d3e88a-74c8-4e83-ce16-b5a50cca9ae9"
      },
      "outputs": [
        {
          "data": {
            "text/plain": [
              "True"
            ]
          },
          "execution_count": 14,
          "metadata": {},
          "output_type": "execute_result"
        }
      ],
      "source": [
        "x > 10 and x < 20 # In an \"and\" operation, both statements must be true"
      ]
    },
    {
      "cell_type": "code",
      "execution_count": null,
      "metadata": {
        "id": "uaeWq-lzvf9F"
      },
      "outputs": [],
      "source": [
        "day = 'Saturday'"
      ]
    },
    {
      "cell_type": "code",
      "execution_count": null,
      "metadata": {
        "id": "uVoNPdJyvf9F",
        "outputId": "0ef13124-48b3-403a-ecf6-5544e3e0d2cf"
      },
      "outputs": [
        {
          "data": {
            "text/plain": [
              "True"
            ]
          },
          "execution_count": 15,
          "metadata": {},
          "output_type": "execute_result"
        }
      ],
      "source": [
        "day == 'Saturday' or day == 'Sunday' # In an \"or\" operation, either statement needs to be true"
      ]
    },
    {
      "cell_type": "code",
      "execution_count": null,
      "metadata": {
        "id": "IpY0wogivf9F",
        "outputId": "a38053a1-4cfe-4540-f0ce-b6bbc65befc0"
      },
      "outputs": [
        {
          "data": {
            "text/plain": [
              "False"
            ]
          },
          "execution_count": 16,
          "metadata": {},
          "output_type": "execute_result"
        }
      ],
      "source": [
        "not True # The \"not\" operation swaps True and False"
      ]
    },
    {
      "cell_type": "markdown",
      "metadata": {
        "id": "k6XSer3qvf9F"
      },
      "source": [
        "## Collection Data Types"
      ]
    },
    {
      "cell_type": "markdown",
      "metadata": {
        "id": "yP379kb3vf9G"
      },
      "source": [
        "Two types of collection data types: Those arranged in order, and those arranged by a key. Tuple and Lists have an order; these are sequence types"
      ]
    },
    {
      "cell_type": "markdown",
      "metadata": {
        "id": "XKBuT4qtvf9G"
      },
      "source": [
        "### Tuple"
      ]
    },
    {
      "cell_type": "code",
      "execution_count": null,
      "metadata": {
        "id": "HbnQWq9Xvf9G",
        "outputId": "02f907bc-2d96-4f1d-96d4-3db9fe2c43bc"
      },
      "outputs": [
        {
          "data": {
            "text/plain": [
              "'Sun'"
            ]
          },
          "execution_count": 406,
          "metadata": {},
          "output_type": "execute_result"
        }
      ],
      "source": [
        "weekend = ('Sat','Sun')  # Tuples are created using round brackets ()\n",
        "weekend[1]               # We use the location in the sequence to retrieve values"
      ]
    },
    {
      "cell_type": "code",
      "execution_count": null,
      "metadata": {
        "id": "uQ8Tae5uvf9G",
        "outputId": "ca5c6cff-f5f7-427f-c7a1-622b70e854b3"
      },
      "outputs": [
        {
          "ename": "TypeError",
          "evalue": "'tuple' object does not support item assignment",
          "output_type": "error",
          "traceback": [
            "\u001b[0;31m---------------------------------------------------------------------------\u001b[0m",
            "\u001b[0;31mTypeError\u001b[0m                                 Traceback (most recent call last)",
            "\u001b[0;32m<ipython-input-407-49a67a429926>\u001b[0m in \u001b[0;36m<module>\u001b[0;34m\u001b[0m\n\u001b[0;32m----> 1\u001b[0;31m \u001b[0mweekend\u001b[0m\u001b[0;34m[\u001b[0m\u001b[0;36m1\u001b[0m\u001b[0;34m]\u001b[0m \u001b[0;34m=\u001b[0m \u001b[0;34m'Mon'\u001b[0m       \u001b[0;31m# Tuples do not support item assignment\u001b[0m\u001b[0;34m\u001b[0m\u001b[0;34m\u001b[0m\u001b[0m\n\u001b[0m",
            "\u001b[0;31mTypeError\u001b[0m: 'tuple' object does not support item assignment"
          ]
        }
      ],
      "source": [
        "weekend[1] = 'Mon'       # Tuples do not support item assignment"
      ]
    },
    {
      "cell_type": "markdown",
      "metadata": {
        "id": "I35cnnr8vf9G"
      },
      "source": [
        "### List"
      ]
    },
    {
      "cell_type": "code",
      "execution_count": null,
      "metadata": {
        "id": "4NBNYvWlvf9H",
        "outputId": "2e296f6b-cf74-42a3-a16a-acf36faac23c"
      },
      "outputs": [
        {
          "data": {
            "text/plain": [
              "['Thur', 'Tue', 'Wed']"
            ]
          },
          "execution_count": 408,
          "metadata": {},
          "output_type": "execute_result"
        }
      ],
      "source": [
        "weekday = ['Mon','Tue','Wed']  # Lists are created using square brackets []\n",
        "weekday[0] = 'Thur'            # Also accessed by location, but do support re-assignment\n",
        "weekday"
      ]
    },
    {
      "cell_type": "markdown",
      "metadata": {
        "id": "dIGxlkw-vf9H"
      },
      "source": [
        "### Dictionary"
      ]
    },
    {
      "cell_type": "markdown",
      "metadata": {
        "id": "k3ZtXg8bvf9H"
      },
      "source": [
        "Since values in a dictionary do not have a sequance, we define the key for each."
      ]
    },
    {
      "cell_type": "code",
      "execution_count": null,
      "metadata": {
        "id": "ulmprxnZvf9H"
      },
      "outputs": [],
      "source": [
        "capitals  = {'Ireland':'Dublin', 'France':'Paris'}  # Dictionaries are defined using curly brackets {}"
      ]
    },
    {
      "cell_type": "code",
      "execution_count": null,
      "metadata": {
        "id": "vh0eKE7Cvf9H",
        "outputId": "1e0ee744-ff5f-464e-c64c-a7571abfff91"
      },
      "outputs": [
        {
          "data": {
            "text/plain": [
              "'Dublin'"
            ]
          },
          "execution_count": 490,
          "metadata": {},
          "output_type": "execute_result"
        }
      ],
      "source": [
        "capitals['Ireland']  # We retrieve values using a key instead of an index. Make sure your key is unique!"
      ]
    },
    {
      "cell_type": "markdown",
      "metadata": {
        "id": "KhyUF58Zvf9H"
      },
      "source": [
        "### Strings"
      ]
    },
    {
      "cell_type": "code",
      "execution_count": null,
      "metadata": {
        "id": "GHASH3davf9I",
        "outputId": "820da4a4-2f9b-4c8a-8872-5bafae99983e"
      },
      "outputs": [
        {
          "data": {
            "text/plain": [
              "'t'"
            ]
          },
          "execution_count": 414,
          "metadata": {},
          "output_type": "execute_result"
        }
      ],
      "source": [
        "sentence = 'This is actually a collection'\n",
        "sentence[10]"
      ]
    },
    {
      "cell_type": "code",
      "execution_count": null,
      "metadata": {
        "id": "WyUEtR74vf9I",
        "outputId": "fa8b7388-081d-4a41-9bc2-50f9194ee0ef"
      },
      "outputs": [
        {
          "ename": "TypeError",
          "evalue": "'str' object does not support item assignment",
          "output_type": "error",
          "traceback": [
            "\u001b[0;31m---------------------------------------------------------------------------\u001b[0m",
            "\u001b[0;31mTypeError\u001b[0m                                 Traceback (most recent call last)",
            "\u001b[0;32m<ipython-input-415-3a5ece29a8f3>\u001b[0m in \u001b[0;36m<module>\u001b[0;34m\u001b[0m\n\u001b[0;32m----> 1\u001b[0;31m \u001b[0msentence\u001b[0m\u001b[0;34m[\u001b[0m\u001b[0;36m10\u001b[0m\u001b[0;34m]\u001b[0m \u001b[0;34m=\u001b[0m \u001b[0;34m'h'\u001b[0m \u001b[0;31m# Just don't try to reassign values\u001b[0m\u001b[0;34m\u001b[0m\u001b[0;34m\u001b[0m\u001b[0m\n\u001b[0m",
            "\u001b[0;31mTypeError\u001b[0m: 'str' object does not support item assignment"
          ]
        }
      ],
      "source": [
        "sentence[10] = 'h' # Just don't try to reassign values"
      ]
    },
    {
      "cell_type": "markdown",
      "metadata": {
        "id": "9Xqd8E5qvf9I"
      },
      "source": [
        "## Square Bracket Notation"
      ]
    },
    {
      "cell_type": "markdown",
      "metadata": {
        "id": "DRDw7JPVvf9I"
      },
      "source": [
        "We will start with a new list"
      ]
    },
    {
      "cell_type": "code",
      "execution_count": null,
      "metadata": {
        "id": "VwA6JpnTvf9I"
      },
      "outputs": [],
      "source": [
        "students = [1,2,3,4,5,6,7,8]"
      ]
    },
    {
      "cell_type": "markdown",
      "metadata": {
        "id": "dzaebiO8vf9I"
      },
      "source": [
        "### Accessing Item"
      ]
    },
    {
      "cell_type": "code",
      "execution_count": null,
      "metadata": {
        "id": "IBs29_Aovf9J",
        "outputId": "f64fc471-6610-4c59-f6f2-ac4044e43049"
      },
      "outputs": [
        {
          "data": {
            "text/plain": [
              "int"
            ]
          },
          "execution_count": 418,
          "metadata": {},
          "output_type": "execute_result"
        }
      ],
      "source": [
        "type(students[0])  # Using square brackets returns the individual item"
      ]
    },
    {
      "cell_type": "markdown",
      "metadata": {
        "id": "834FvOVPvf9J"
      },
      "source": [
        "### Subsetting"
      ]
    },
    {
      "cell_type": "code",
      "execution_count": null,
      "metadata": {
        "id": "kijLK-Hyvf9J",
        "outputId": "0b78bbac-7b28-4d6b-9c4a-a5a49b2c221b"
      },
      "outputs": [
        {
          "data": {
            "text/plain": [
              "list"
            ]
          },
          "execution_count": 431,
          "metadata": {},
          "output_type": "execute_result"
        }
      ],
      "source": [
        "type(students[2:5])  # Subsetting returns a list. Pass in the start at end paramters"
      ]
    },
    {
      "cell_type": "code",
      "execution_count": null,
      "metadata": {
        "id": "kYYDfjCWvf9J",
        "outputId": "485728b0-825c-4f73-d2b8-8f871ed78186"
      },
      "outputs": [
        {
          "data": {
            "text/plain": [
              "[1, 2, 3, 4, 5]"
            ]
          },
          "execution_count": 429,
          "metadata": {},
          "output_type": "execute_result"
        }
      ],
      "source": [
        "students[:5]      # Leaving out the first parameter means it will start at the start"
      ]
    },
    {
      "cell_type": "code",
      "execution_count": null,
      "metadata": {
        "id": "RX46ilnRvf9J",
        "outputId": "e5d3e518-17b2-4f6c-df21-066ffcf53662"
      },
      "outputs": [
        {
          "data": {
            "text/plain": [
              "[3, 4, 5, 6, 7, 8]"
            ]
          },
          "execution_count": 432,
          "metadata": {},
          "output_type": "execute_result"
        }
      ],
      "source": [
        "students[2:]      # Leaving out the second parameter means it will run to the end"
      ]
    },
    {
      "cell_type": "code",
      "execution_count": null,
      "metadata": {
        "id": "nBPDaQStvf9J",
        "outputId": "75d5a28b-1907-4f41-cc04-8162f6ad1e5b"
      },
      "outputs": [
        {
          "data": {
            "text/plain": [
              "[1, 2, 3, 4, 5, 6, 7, 8]"
            ]
          },
          "execution_count": 434,
          "metadata": {},
          "output_type": "execute_result"
        }
      ],
      "source": [
        "students[:]       # Leaving out both will return the full list"
      ]
    },
    {
      "cell_type": "code",
      "execution_count": null,
      "metadata": {
        "id": "aowlN7vCvf9K",
        "outputId": "9449331d-1846-4b51-bd18-9194a051f7c0"
      },
      "outputs": [
        {
          "data": {
            "text/plain": [
              "[6, 7]"
            ]
          },
          "execution_count": 437,
          "metadata": {},
          "output_type": "execute_result"
        }
      ],
      "source": [
        "students[-3:-1]   # Negative values will count from the end of the list"
      ]
    },
    {
      "cell_type": "code",
      "execution_count": null,
      "metadata": {
        "id": "yigom4b9vf9K",
        "outputId": "4d8115d2-8fc3-4f9c-e81f-2e4b2335c8cc"
      },
      "outputs": [
        {
          "data": {
            "text/plain": [
              "[1, 3, 5, 7]"
            ]
          },
          "execution_count": 440,
          "metadata": {},
          "output_type": "execute_result"
        }
      ],
      "source": [
        "students[::2]     # A third parameter can be passed to set the step size"
      ]
    },
    {
      "cell_type": "markdown",
      "metadata": {
        "id": "BQSQLqPwvf9K"
      },
      "source": [
        "### Manipulating"
      ]
    },
    {
      "cell_type": "markdown",
      "metadata": {
        "id": "NjNJJePnvf9K"
      },
      "source": [
        "We can use the assignment operations from before on lists too"
      ]
    },
    {
      "cell_type": "code",
      "execution_count": null,
      "metadata": {
        "id": "NdQrK8C0vf9K",
        "outputId": "45d37823-f890-4032-a77d-9660e464b9ce"
      },
      "outputs": [
        {
          "data": {
            "text/plain": [
              "[1, 2, 3, 4, 5, 6, 7, 8, 9, 10]"
            ]
          },
          "execution_count": 449,
          "metadata": {},
          "output_type": "execute_result"
        }
      ],
      "source": [
        "students += [9,10]\n",
        "students"
      ]
    },
    {
      "cell_type": "code",
      "execution_count": null,
      "metadata": {
        "id": "8jPYGkxLvf9K",
        "outputId": "c54a12c7-8706-41a4-ac41-8f0fa363e940"
      },
      "outputs": [
        {
          "data": {
            "text/plain": [
              "[1, 2, 3, 4, 5, 6, 7, 8, 9, 10, 1, 2, 3, 4, 5, 6, 7, 8, 9, 10]"
            ]
          },
          "execution_count": 450,
          "metadata": {},
          "output_type": "execute_result"
        }
      ],
      "source": [
        "students *= 2\n",
        "students"
      ]
    },
    {
      "cell_type": "markdown",
      "metadata": {
        "id": "GF8fYVP3vf9K"
      },
      "source": [
        "### Copying"
      ]
    },
    {
      "cell_type": "markdown",
      "metadata": {
        "id": "i6-lJFSMvf9L"
      },
      "source": [
        "This is a warning about copying lists"
      ]
    },
    {
      "cell_type": "code",
      "execution_count": null,
      "metadata": {
        "id": "BNLgwAGZvf9L",
        "outputId": "fd465b58-3b93-4079-aa05-fbb7cf6bba92"
      },
      "outputs": [
        {
          "data": {
            "text/plain": [
              "[1, 2, 3, 4, 6]"
            ]
          },
          "execution_count": 456,
          "metadata": {},
          "output_type": "execute_result"
        }
      ],
      "source": [
        "class_a = [1,2,3,4,6]  # Say I create a list \"class_a\"\n",
        "class_b = class_a      # And I want to create a copy of this list as \"class_b\"\n",
        "class_b                # And I even have a look at \"class_b\", and seems to be copied perfectly"
      ]
    },
    {
      "cell_type": "code",
      "execution_count": null,
      "metadata": {
        "id": "VjOqrHGavf9L",
        "outputId": "c8b12f97-6ea9-4445-fca5-406b46a4b560"
      },
      "outputs": [
        {
          "data": {
            "text/plain": [
              "[10, 2, 3, 4, 6]"
            ]
          },
          "execution_count": 459,
          "metadata": {},
          "output_type": "execute_result"
        }
      ],
      "source": [
        "class_a[0] = 10        # But if I change one of the values in \"class_a\"\n",
        "class_b                # And have a look at class_b, it is also changed here! We really are just pointing to \"class_a\""
      ]
    },
    {
      "cell_type": "code",
      "execution_count": null,
      "metadata": {
        "id": "RitElJEovf9L",
        "outputId": "00622c44-df30-498e-e3f5-c3c365e9e153"
      },
      "outputs": [
        {
          "data": {
            "text/plain": [
              "[1, 2, 3, 4, 6]"
            ]
          },
          "execution_count": 255,
          "metadata": {},
          "output_type": "execute_result"
        }
      ],
      "source": [
        "class_b = class_a[:]   # We can use our subsetting trick in future to create a proper copy"
      ]
    },
    {
      "cell_type": "code",
      "execution_count": null,
      "metadata": {
        "id": "bqZjwghsvf9L"
      },
      "outputs": [],
      "source": [
        "class_b = list(class_a) # Or this list() function"
      ]
    },
    {
      "cell_type": "markdown",
      "metadata": {
        "id": "S9StdTdAvf9L"
      },
      "source": [
        "## Conditional Statements"
      ]
    },
    {
      "cell_type": "markdown",
      "metadata": {
        "id": "1YYYeqt0vf9L"
      },
      "source": [
        "Conditional statements run depending on a Boolean statement. "
      ]
    },
    {
      "cell_type": "markdown",
      "metadata": {
        "id": "oNmGFF5rvf9L"
      },
      "source": [
        "### If"
      ]
    },
    {
      "cell_type": "code",
      "execution_count": null,
      "metadata": {
        "id": "wIJRXThJvf9L",
        "outputId": "b63bd076-a223-47ed-bb51-b383dcb4f1ca"
      },
      "outputs": [
        {
          "name": "stdout",
          "output_type": "stream",
          "text": [
            "x is 10\n"
          ]
        }
      ],
      "source": [
        "x = 10\n",
        "if x > 15:                # Here x > 15 is a Boolean statement. It will evaluate to False\n",
        "    print('x is large')\n",
        "elif x == 10:             # Here x == 10 is True. So the below statement executes\n",
        "    print('x is 10')\n",
        "elif x > 5:               # This is also True, but the statemetn has already been closed\n",
        "    print('x is medium')\n",
        "else:                     # This would catch anything not met by previous tests. Notice there is no Boolean test.\n",
        "    print('x is small')"
      ]
    },
    {
      "cell_type": "markdown",
      "metadata": {
        "id": "uqsgRuUwvf9L"
      },
      "source": [
        "### While"
      ]
    },
    {
      "cell_type": "markdown",
      "metadata": {
        "id": "QclsEcg-vf9L"
      },
      "source": [
        "This is our first loop. That means the statement will continually run until the statement turns False"
      ]
    },
    {
      "cell_type": "code",
      "execution_count": null,
      "metadata": {
        "id": "E3qdSfbMvf9L",
        "outputId": "69e47061-2094-489f-cdc9-11f8be539b7b"
      },
      "outputs": [
        {
          "name": "stdout",
          "output_type": "stream",
          "text": [
            "x is 1\n",
            "x is 2\n",
            "x is 3\n",
            "x is 4\n",
            "x is 5\n"
          ]
        }
      ],
      "source": [
        "x = 1                        # Start with x = 1\n",
        "while x < 6:                 # This test evaluates as True. It will keep revisiting this\n",
        "    print('x is ' + str(x))  # Print out whatever x is. (Notice: to add x to my sentence, I had to turn it into a string.)\n",
        "    x += 1                   # Make sure you are doing somethign to make x < 10 turn False. Or you will be stuck in a loop!"
      ]
    },
    {
      "cell_type": "markdown",
      "metadata": {
        "id": "W4APu5xqvf9L"
      },
      "source": [
        "### For"
      ]
    },
    {
      "cell_type": "code",
      "execution_count": null,
      "metadata": {
        "id": "wVqPzlz6vf9M",
        "outputId": "b06d1593-5119-4b71-a083-9cc96e7e38c7"
      },
      "outputs": [
        {
          "name": "stdout",
          "output_type": "stream",
          "text": [
            "x is 1\n",
            "x is 2\n",
            "x is 3\n",
            "x is 4\n",
            "x is 5\n"
          ]
        }
      ],
      "source": [
        "for x in [1,2,3,4,5]:        # In for loops, you provide a object to iterate over. Much more stable!\n",
        "    print('x is ' + str(x)) "
      ]
    },
    {
      "cell_type": "code",
      "execution_count": null,
      "metadata": {
        "id": "bVA_EGdxvf9M",
        "outputId": "781232c8-d4bf-4035-cdf5-291f5f904356"
      },
      "outputs": [
        {
          "name": "stdout",
          "output_type": "stream",
          "text": [
            "x is 1\n",
            "x is 2\n",
            "x is 3\n",
            "x is 4\n",
            "x is 5\n"
          ]
        }
      ],
      "source": [
        "for x in range(1,6):        # If you don't have a list or object, you can create one using range() function\n",
        "    print('x is ' + str(x)) "
      ]
    },
    {
      "cell_type": "markdown",
      "metadata": {
        "id": "pgv3TRQHvf9M"
      },
      "source": [
        "## Functions"
      ]
    },
    {
      "cell_type": "markdown",
      "metadata": {
        "id": "bETDL7Mkvf9M"
      },
      "source": [
        "Functions are a way of packaging up code. They take some input (arguements), run some code (body), and then return a value"
      ]
    },
    {
      "cell_type": "code",
      "execution_count": null,
      "metadata": {
        "id": "qzhMc5BYvf9M"
      },
      "outputs": [],
      "source": [
        "def sums_two(a, b):  # Here we take in two numbers, represented by \"a\" and \"b\"\n",
        "    total = a + b    # We assign the sum of these two numbers to \"total\"\n",
        "    return total     # And now we return this function as the variable \"total\""
      ]
    },
    {
      "cell_type": "code",
      "execution_count": null,
      "metadata": {
        "id": "PsWsR7T5vf9M",
        "outputId": "6bf3d625-5130-4bb4-993c-66fba6088166"
      },
      "outputs": [
        {
          "data": {
            "text/plain": [
              "30"
            ]
          },
          "execution_count": 476,
          "metadata": {},
          "output_type": "execute_result"
        }
      ],
      "source": [
        "sums_two(10,20)"
      ]
    },
    {
      "cell_type": "markdown",
      "metadata": {
        "id": "5KbcbBepvf9M"
      },
      "source": [
        "## Object-Oriented Programming (OOP)"
      ]
    },
    {
      "cell_type": "markdown",
      "metadata": {
        "id": "J6omiXFfvf9M"
      },
      "source": [
        "So far, we have covered off data types and functions. In Object-oriented Programming (OOP), data types and functions can be packaged up inside of objects. When inside an object, data types are called attributes and functions are called methods. You can get into them, by using a dot (.) Every object type has different attributes and methods associated with them, depending on what would be useful."
      ]
    },
    {
      "cell_type": "markdown",
      "metadata": {
        "id": "zbFXkHlivf9M"
      },
      "source": [
        "### Attributes"
      ]
    },
    {
      "cell_type": "markdown",
      "metadata": {
        "id": "3vWc6MYVvf9M"
      },
      "source": [
        "None of the objects we created so far have attributes associated with them (data types packaged inside them). So we will revisit some attribtues later, when we have more complex data structures."
      ]
    },
    {
      "cell_type": "markdown",
      "metadata": {
        "id": "9yZVQYKYvf9M"
      },
      "source": [
        "### Methods"
      ]
    },
    {
      "cell_type": "markdown",
      "metadata": {
        "id": "6pt7Ysoevf9M"
      },
      "source": [
        "For this example, we will take a string. In OOP it is considered an object with loads of useful functions (methods) packaged inside it."
      ]
    },
    {
      "cell_type": "code",
      "execution_count": null,
      "metadata": {
        "id": "QpWRN9Zyvf9M",
        "outputId": "61a93e1f-3427-4928-ecf3-32353a12ab9d"
      },
      "outputs": [
        {
          "data": {
            "text/plain": [
              "'Hello'"
            ]
          },
          "execution_count": 496,
          "metadata": {},
          "output_type": "execute_result"
        }
      ],
      "source": [
        "'hello'.capitalize()  # Even though this is a string, it is an object with hidden methods inside it"
      ]
    },
    {
      "cell_type": "code",
      "execution_count": null,
      "metadata": {
        "id": "4MYdPBJEvf9M",
        "outputId": "1c4e0ff1-0b0b-46b7-e55e-6137ba00b3f6"
      },
      "outputs": [
        {
          "data": {
            "text/plain": [
              "'CIAN'"
            ]
          },
          "execution_count": 495,
          "metadata": {},
          "output_type": "execute_result"
        }
      ],
      "source": [
        "name = 'Cian'  \n",
        "name.upper()   # This method turns the string to upper-case"
      ]
    },
    {
      "cell_type": "code",
      "execution_count": null,
      "metadata": {
        "id": "SrGnVsocvf9N",
        "outputId": "ee872bab-2bf7-4513-a857-49c77af8fe2d"
      },
      "outputs": [
        {
          "data": {
            "text/plain": [
              "['10', '12', '89']"
            ]
          },
          "execution_count": 482,
          "metadata": {},
          "output_type": "execute_result"
        }
      ],
      "source": [
        "birthday = '10-12-89'  # Say we have a birthday give to us a string, but we want to know the month.\n",
        "birthday.split('-')    # The split() method will return a list, splitting out our string into separate elements"
      ]
    },
    {
      "cell_type": "code",
      "execution_count": null,
      "metadata": {
        "id": "SNnbdf29vf9N",
        "outputId": "3efe8c21-b7a6-4d98-8b72-d69b8e4e04b2"
      },
      "outputs": [
        {
          "name": "stdout",
          "output_type": "stream",
          "text": [
            "12\n"
          ]
        }
      ],
      "source": [
        "day, month, year = birthday.split('-') # We can ever go as far as to unpack this list into three variables\n",
        "print(month)"
      ]
    },
    {
      "cell_type": "markdown",
      "metadata": {
        "id": "NhixCsi2vf9N"
      },
      "source": [
        "## Packages"
      ]
    },
    {
      "cell_type": "markdown",
      "metadata": {
        "id": "alYDcI7Ovf9N"
      },
      "source": [
        "We can now look at importing code into our project. This dot notation, for accessing methods inside in objects, can be used for accessing functions inside of packages."
      ]
    },
    {
      "cell_type": "code",
      "execution_count": null,
      "metadata": {
        "id": "1znBFxIJvf9N",
        "outputId": "f959c3a5-66c8-4596-a635-6c9cd7cf24af"
      },
      "outputs": [
        {
          "data": {
            "text/plain": [
              "5.5"
            ]
          },
          "execution_count": 502,
          "metadata": {},
          "output_type": "execute_result"
        }
      ],
      "source": [
        "import numpy         # Here we are importing a chunk of code called Numpy (Numerical Python). It is full of useful functions\n",
        "numpy.mean(students) # This function will get the average of our list"
      ]
    },
    {
      "cell_type": "code",
      "execution_count": null,
      "metadata": {
        "id": "m2nA8cgOvf9N",
        "outputId": "768dc2f8-3b3d-42bb-cc81-f09616e44a4c"
      },
      "outputs": [
        {
          "data": {
            "text/plain": [
              "10"
            ]
          },
          "execution_count": 503,
          "metadata": {},
          "output_type": "execute_result"
        }
      ],
      "source": [
        "import numpy as np  # It is very common to give these packages an alias, here \"np\" is used\n",
        "np.max(students)    # This function will get the max value from our list"
      ]
    },
    {
      "cell_type": "markdown",
      "metadata": {
        "id": "z2x21n9Cvf9N"
      },
      "source": [
        "## Numpy"
      ]
    },
    {
      "cell_type": "markdown",
      "metadata": {
        "id": "TEyaBNMWvf9N"
      },
      "source": [
        "Remember when we tried to run our operations on our lists. We could only treat it like a sequence or a word (double the whole thing, or tack values on to the end of it). But we couldn't operate on the elements of it. Converting our list into a NumPy array will allow us to do all those operations we looked at at the start of the lecture."
      ]
    },
    {
      "cell_type": "code",
      "execution_count": null,
      "metadata": {
        "id": "61dwrSoUvf9N",
        "outputId": "5e0d924f-2f83-48e2-a3ee-61c56737ac62"
      },
      "outputs": [
        {
          "data": {
            "text/plain": [
              "array([1, 2, 3, 4, 5, 6, 7, 8])"
            ]
          },
          "execution_count": 507,
          "metadata": {},
          "output_type": "execute_result"
        }
      ],
      "source": [
        "students = [1,2,3,4,5,6,7,8]      # Let's define our list again\n",
        "student_arr = np.array(students)   # Using the array() function from our NumPy package\n",
        "student_arr                       # Looks identical, excepts it is called array"
      ]
    },
    {
      "cell_type": "markdown",
      "metadata": {
        "id": "gbR9l8CPvf9N"
      },
      "source": [
        "### Arithmetic Operations"
      ]
    },
    {
      "cell_type": "code",
      "execution_count": null,
      "metadata": {
        "id": "eDjCyyRovf9N",
        "outputId": "0f85bfb9-83cd-4af9-e219-33e75dc2df0f"
      },
      "outputs": [
        {
          "data": {
            "text/plain": [
              "array([ 2,  4,  6,  8, 10, 12, 14, 16])"
            ]
          },
          "execution_count": 513,
          "metadata": {},
          "output_type": "execute_result"
        }
      ],
      "source": [
        "student_arr * 2   # Except this time, doubling it doesn't double the lenght of it, it doubles each element in it"
      ]
    },
    {
      "cell_type": "code",
      "execution_count": null,
      "metadata": {
        "id": "UEPSqssZvf9N",
        "outputId": "4099e327-83b3-43f6-b913-ab8315f51365"
      },
      "outputs": [
        {
          "data": {
            "text/plain": [
              "array([ 1,  4,  9, 16, 25, 36, 49, 64])"
            ]
          },
          "execution_count": 512,
          "metadata": {},
          "output_type": "execute_result"
        }
      ],
      "source": [
        "student_arr ** 2  # And all our arithmetic operators from before work on it. Here we square all the elements"
      ]
    },
    {
      "cell_type": "markdown",
      "metadata": {
        "id": "vf1M7FkIvf9O"
      },
      "source": [
        "### Boolean Operations"
      ]
    },
    {
      "cell_type": "code",
      "execution_count": null,
      "metadata": {
        "id": "m0S-uveHvf9O",
        "outputId": "896a2033-9d6e-4735-9f77-40a3d55dae62"
      },
      "outputs": [
        {
          "data": {
            "text/plain": [
              "array([False, False, False,  True,  True,  True,  True,  True])"
            ]
          },
          "execution_count": 514,
          "metadata": {},
          "output_type": "execute_result"
        }
      ],
      "source": [
        "student_arr > 3    # The same goes for Boolean operations"
      ]
    },
    {
      "cell_type": "markdown",
      "metadata": {
        "id": "-8IJ4byovf9O"
      },
      "source": [
        "### Filtering"
      ]
    },
    {
      "cell_type": "markdown",
      "metadata": {
        "id": "2RAr8v0ovf9O"
      },
      "source": [
        "A very handy use of the Boolean array above, is that we can pass it into our original array. This will knock out any values where the array is False"
      ]
    },
    {
      "cell_type": "code",
      "execution_count": null,
      "metadata": {
        "id": "9s-KtC24vf9O",
        "outputId": "18ea255f-a7ab-46d9-c112-d41574e2ff81"
      },
      "outputs": [
        {
          "data": {
            "text/plain": [
              "array([4, 5, 6, 7, 8])"
            ]
          },
          "execution_count": 519,
          "metadata": {},
          "output_type": "execute_result"
        }
      ],
      "source": [
        "over_three = student_arr > 3  # Here we create our Boolean array, and set it as a variable\n",
        "student_arr[over_three]       # Passing this into our original array has the effect of filtering the values"
      ]
    },
    {
      "cell_type": "code",
      "execution_count": null,
      "metadata": {
        "id": "_LVhELj4vf9O",
        "outputId": "6ace195b-9ed3-49e2-c25e-4248771a2780"
      },
      "outputs": [
        {
          "data": {
            "text/plain": [
              "array([4, 5, 6, 7, 8])"
            ]
          },
          "execution_count": 520,
          "metadata": {},
          "output_type": "execute_result"
        }
      ],
      "source": [
        "student_arr[student_arr > 3]  # This can all be done in one line. This is very common notation"
      ]
    },
    {
      "cell_type": "markdown",
      "metadata": {
        "id": "7uciPUaxvf9O"
      },
      "source": [
        "### Methods and Attributes"
      ]
    },
    {
      "cell_type": "markdown",
      "metadata": {
        "id": "RugdpHE4vf9O"
      },
      "source": [
        "Remember we said we would revisit attributes, once we got to a data structure that had them. NumPy arrays have attributes (data) associated with them. Notice there are no roundy brackets. That's because here we are retrieving a data type (integer, in this case), not calling a method."
      ]
    },
    {
      "cell_type": "code",
      "execution_count": null,
      "metadata": {
        "id": "MXN3aMC-vf9O",
        "outputId": "e75673ef-243a-4c83-82b9-031cb4422db0"
      },
      "outputs": [
        {
          "data": {
            "text/plain": [
              "8"
            ]
          },
          "execution_count": 525,
          "metadata": {},
          "output_type": "execute_result"
        }
      ],
      "source": [
        "student_arr.size  # This attribute has the total number of elements in the list"
      ]
    },
    {
      "cell_type": "code",
      "execution_count": null,
      "metadata": {
        "id": "oNIiFLYNvf9O",
        "outputId": "5f3f133d-3cbe-4c0b-e7fa-380990a26c2c"
      },
      "outputs": [
        {
          "data": {
            "text/plain": [
              "4.5"
            ]
          },
          "execution_count": 529,
          "metadata": {},
          "output_type": "execute_result"
        }
      ],
      "source": [
        "student_arr.mean() # This method returns the average of the list"
      ]
    },
    {
      "cell_type": "markdown",
      "metadata": {
        "id": "pdcJIYDJvf9P"
      },
      "source": [
        "## Two-Dimensional Objects"
      ]
    },
    {
      "cell_type": "markdown",
      "metadata": {
        "id": "F7lM4BDNvf9P"
      },
      "source": [
        "So far, all the objects we have been working with have been one dimensional. For instance, a list of numbers or names. What we really want to get to, is some sort of a table object. This is done by creating a two-dimensional object. It sounds complicated, but it just means layering what we have already. For instance, a list of lists."
      ]
    },
    {
      "cell_type": "markdown",
      "metadata": {
        "id": "gmFbNxlevf9P"
      },
      "source": [
        "### List of Lists"
      ]
    },
    {
      "cell_type": "markdown",
      "metadata": {
        "id": "rC4i-MK5vf9P"
      },
      "source": [
        "Here we are going to create another list with three elements, but each element is going to be a list itself."
      ]
    },
    {
      "cell_type": "code",
      "execution_count": null,
      "metadata": {
        "id": "bFvfdivqvf9P",
        "outputId": "eb71fb20-ce1a-4679-a9b2-4e3d387b72d9"
      },
      "outputs": [
        {
          "data": {
            "text/plain": [
              "[[1, 2, 3], [4, 5, 6], [7, 8, 9]]"
            ]
          },
          "execution_count": 534,
          "metadata": {},
          "output_type": "execute_result"
        }
      ],
      "source": [
        "list_of_lists = [[1,2,3],[4,5,6],[7,8,9]]  # We can create a list of lists\n",
        "list_of_lists"
      ]
    },
    {
      "cell_type": "code",
      "execution_count": null,
      "metadata": {
        "id": "bH3X3FLPvf9P",
        "outputId": "2808ef55-a65c-41d4-a13e-32bc92f08a0b"
      },
      "outputs": [
        {
          "data": {
            "text/plain": [
              "[1, 2, 3]"
            ]
          },
          "execution_count": 535,
          "metadata": {},
          "output_type": "execute_result"
        }
      ],
      "source": [
        "list_of_lists[0]   # Using the square bracket notation we can access the first element (first list)"
      ]
    },
    {
      "cell_type": "code",
      "execution_count": null,
      "metadata": {
        "id": "W406ihFlvf9P",
        "outputId": "426b9b31-4986-4128-ea93-b83bfcc2fbeb"
      },
      "outputs": [
        {
          "data": {
            "text/plain": [
              "3"
            ]
          },
          "execution_count": 540,
          "metadata": {},
          "output_type": "execute_result"
        }
      ],
      "source": [
        "list_of_lists[0][2] # We can chain these together to access individual elements"
      ]
    },
    {
      "cell_type": "markdown",
      "metadata": {
        "id": "xpa6teGqvf9P"
      },
      "source": [
        "### 2D Arrays"
      ]
    },
    {
      "cell_type": "markdown",
      "metadata": {
        "id": "TsEj7ufbvf9P"
      },
      "source": [
        "Using NumPy's array() function, we can turn our 2D lists into 2D arrays."
      ]
    },
    {
      "cell_type": "code",
      "execution_count": null,
      "metadata": {
        "id": "k8vzJPofvf9P",
        "outputId": "163ab8e0-f9d0-4abe-f395-f499ae7f817b"
      },
      "outputs": [
        {
          "data": {
            "text/plain": [
              "array([[1, 2, 3],\n",
              "       [4, 5, 6],\n",
              "       [7, 8, 9]])"
            ]
          },
          "execution_count": 542,
          "metadata": {},
          "output_type": "execute_result"
        }
      ],
      "source": [
        "np.array(list_of_lists)  # This is immediately more recognisably two-dimentional"
      ]
    },
    {
      "cell_type": "code",
      "execution_count": null,
      "metadata": {
        "id": "sJv-ktixvf9P",
        "outputId": "81e5c384-f284-46b9-fe58-02ffc871545e"
      },
      "outputs": [
        {
          "data": {
            "text/plain": [
              "3"
            ]
          },
          "execution_count": 548,
          "metadata": {},
          "output_type": "execute_result"
        }
      ],
      "source": [
        "two_d_arr = np.array(list_of_lists)  # Converting out 2D list into a 2D Numpy array\n",
        "two_d_arr[0][2]  # Accessing items just like before"
      ]
    },
    {
      "cell_type": "code",
      "execution_count": null,
      "metadata": {
        "id": "CdLTLrlDvf9P",
        "outputId": "f0355ed7-4dce-42ba-81b4-57744f7483ce"
      },
      "outputs": [
        {
          "data": {
            "text/plain": [
              "3"
            ]
          },
          "execution_count": 550,
          "metadata": {},
          "output_type": "execute_result"
        }
      ],
      "source": [
        "two_d_arr[0,2]   # But now we have a more convenient short-hand for it (rows, columns)"
      ]
    },
    {
      "cell_type": "code",
      "execution_count": null,
      "metadata": {
        "id": "9MQUV_5rvf9P",
        "outputId": "0769bde0-ed8e-48eb-ab2b-5c0cfb8ed157"
      },
      "outputs": [
        {
          "data": {
            "text/plain": [
              "array([[1, 2],\n",
              "       [4, 5]])"
            ]
          },
          "execution_count": 552,
          "metadata": {},
          "output_type": "execute_result"
        }
      ],
      "source": [
        "two_d_arr[0:2,0:2] # And we can subset our rows and columns as before"
      ]
    },
    {
      "cell_type": "markdown",
      "metadata": {
        "id": "xBy7kHv0vf9P"
      },
      "source": [
        "So this is great, we have a 2D object that we can slice and filter by rows and columns. And if your data is entirely numeric this could be just what you need. But what if we are dealing with more descriptive datasets. Like out `brics` table with information about country captials, populations, GDP, etc."
      ]
    },
    {
      "cell_type": "code",
      "execution_count": null,
      "metadata": {
        "id": "V-PAxi0Wvf9Q",
        "outputId": "3311bc07-f9e2-430a-9c43-460458fdc607"
      },
      "outputs": [
        {
          "data": {
            "text/plain": [
              "array([['BR', 'RU', 'IN', 'CH', 'SA'],\n",
              "       ['Brazil', 'Russia', 'India', 'China', 'South Africa'],\n",
              "       ['Brasilia', 'Moscow', 'New Dehli', 'Beijing', 'Pretoria'],\n",
              "       ['8.516', '17.1', '3.286', '9.597', '1.221'],\n",
              "       ['200.4', '143.5', '1252', '1357', '52.98']], dtype='<U12')"
            ]
          },
          "execution_count": 28,
          "metadata": {},
          "output_type": "execute_result"
        }
      ],
      "source": [
        "brics_list = [['BR','RU','IN','CH','SA'],\n",
        "              ['Brazil', 'Russia', 'India', 'China', 'South Africa'],\n",
        "              ['Brasilia', 'Moscow', 'New Dehli', 'Beijing', 'Pretoria'],\n",
        "              [8.516, 17.10, 3.286, 9.597, 1.221],\n",
        "              [200.4, 143.5, 1252, 1357, 52.98]]\n",
        "\n",
        "brics_arr = np.array(brics_list)\n",
        "brics_arr"
      ]
    },
    {
      "cell_type": "markdown",
      "metadata": {
        "id": "hMU1DQy7vf9Q"
      },
      "source": [
        "If I want to pull out the capitals columns, I can do it the same as before, but I have to know which column number that is."
      ]
    },
    {
      "cell_type": "code",
      "execution_count": null,
      "metadata": {
        "id": "Zxg8Lyp8vf9Q",
        "outputId": "bc1e67f0-c7bd-482d-f3db-23ea5737e510"
      },
      "outputs": [
        {
          "data": {
            "text/plain": [
              "array(['Brasilia', 'Moscow', 'New Dehli', 'Beijing', 'Pretoria'],\n",
              "      dtype='<U12')"
            ]
          },
          "execution_count": 29,
          "metadata": {},
          "output_type": "execute_result"
        }
      ],
      "source": [
        "brics_arr[2]"
      ]
    },
    {
      "cell_type": "markdown",
      "metadata": {
        "id": "hHRGbV4Mvf9Q"
      },
      "source": [
        "And to pull out the population of India, we would need to know India is the 3rd row."
      ]
    },
    {
      "cell_type": "code",
      "execution_count": null,
      "metadata": {
        "id": "xAPqMTyyvf9Q",
        "outputId": "a9299a6b-81b6-4594-e256-2d9d32a8a35d"
      },
      "outputs": [
        {
          "data": {
            "text/plain": [
              "'New Dehli'"
            ]
          },
          "execution_count": 30,
          "metadata": {},
          "output_type": "execute_result"
        }
      ],
      "source": [
        "brics_arr[2,2]"
      ]
    },
    {
      "cell_type": "markdown",
      "metadata": {
        "id": "i3qBA3zrvf9Q"
      },
      "source": [
        "This could be fine for you, depending on the dataset. However, most of the time it would be great to be able to label our columns and rows. This would make it easier to pull out data from it. To do this, we take advantage of the dictionary!"
      ]
    },
    {
      "cell_type": "markdown",
      "metadata": {
        "id": "5IYa7sekvf9Q"
      },
      "source": [
        "### Dictionary of Lists"
      ]
    },
    {
      "cell_type": "markdown",
      "metadata": {
        "id": "7UBHwbt1vf9Q"
      },
      "source": [
        "Dictionaries give us the ability to apply a label to our columns. This means we can access the columns by a word rather than just a number (as with arrays). "
      ]
    },
    {
      "cell_type": "code",
      "execution_count": null,
      "metadata": {
        "id": "wJNbBqZBvf9Q",
        "outputId": "1e7da42c-f036-4f45-c855-8b9161edb4ee"
      },
      "outputs": [
        {
          "data": {
            "text/plain": [
              "{'label': ['BR', 'RU', 'IN', 'CH', 'SA'],\n",
              " 'country': ['Brazil', 'Russia', 'India', 'China', 'South Africa'],\n",
              " 'capital': ['Brasilia', 'Moscow', 'New Dehli', 'Beijing', 'Pretoria'],\n",
              " 'area': [8.516, 17.1, 3.286, 9.597, 1.221],\n",
              " 'population': [200.4, 143.5, 1252, 1357, 52.98]}"
            ]
          },
          "execution_count": 11,
          "metadata": {},
          "output_type": "execute_result"
        }
      ],
      "source": [
        "brics_dict = {'label':      ['BR','RU','IN','CH','SA'],\n",
        "              'country':    ['Brazil', 'Russia', 'India', 'China', 'South Africa'],\n",
        "              'capital':    ['Brasilia', 'Moscow', 'New Dehli', 'Beijing', 'Pretoria'],\n",
        "              'area':       [8.516, 17.10, 3.286, 9.597, 1.221],\n",
        "              'population': [200.4, 143.5, 1252, 1357, 52.98]}\n",
        "brics_dict"
      ]
    },
    {
      "cell_type": "markdown",
      "metadata": {
        "id": "1qiXR2IOvf9Q"
      },
      "source": [
        "From here we can create a sort of labelled array. This is called a DataFrame. Just like how a list of lists could be turned into an array, a dictionary of lists can be turned into a DataFrame. The package we will use to do this is called `Pandas`. "
      ]
    },
    {
      "cell_type": "markdown",
      "metadata": {
        "id": "h4XpggdIvf9Q"
      },
      "source": [
        "### DataFrames"
      ]
    },
    {
      "cell_type": "code",
      "execution_count": null,
      "metadata": {
        "id": "xB0SENWevf9Q"
      },
      "outputs": [],
      "source": [
        "import pandas as pd"
      ]
    },
    {
      "cell_type": "code",
      "execution_count": null,
      "metadata": {
        "id": "6EY8eGO4vf9Q",
        "outputId": "2bca12d5-e9f5-4155-985b-9b07aba763b6"
      },
      "outputs": [
        {
          "data": {
            "text/html": [
              "<div>\n",
              "<style scoped>\n",
              "    .dataframe tbody tr th:only-of-type {\n",
              "        vertical-align: middle;\n",
              "    }\n",
              "\n",
              "    .dataframe tbody tr th {\n",
              "        vertical-align: top;\n",
              "    }\n",
              "\n",
              "    .dataframe thead th {\n",
              "        text-align: right;\n",
              "    }\n",
              "</style>\n",
              "<table border=\"1\" class=\"dataframe\">\n",
              "  <thead>\n",
              "    <tr style=\"text-align: right;\">\n",
              "      <th></th>\n",
              "      <th>label</th>\n",
              "      <th>country</th>\n",
              "      <th>capital</th>\n",
              "      <th>area</th>\n",
              "      <th>population</th>\n",
              "    </tr>\n",
              "  </thead>\n",
              "  <tbody>\n",
              "    <tr>\n",
              "      <th>0</th>\n",
              "      <td>BR</td>\n",
              "      <td>Brazil</td>\n",
              "      <td>Brasilia</td>\n",
              "      <td>8.516</td>\n",
              "      <td>200.40</td>\n",
              "    </tr>\n",
              "    <tr>\n",
              "      <th>1</th>\n",
              "      <td>RU</td>\n",
              "      <td>Russia</td>\n",
              "      <td>Moscow</td>\n",
              "      <td>17.100</td>\n",
              "      <td>143.50</td>\n",
              "    </tr>\n",
              "    <tr>\n",
              "      <th>2</th>\n",
              "      <td>IN</td>\n",
              "      <td>India</td>\n",
              "      <td>New Dehli</td>\n",
              "      <td>3.286</td>\n",
              "      <td>1252.00</td>\n",
              "    </tr>\n",
              "    <tr>\n",
              "      <th>3</th>\n",
              "      <td>CH</td>\n",
              "      <td>China</td>\n",
              "      <td>Beijing</td>\n",
              "      <td>9.597</td>\n",
              "      <td>1357.00</td>\n",
              "    </tr>\n",
              "    <tr>\n",
              "      <th>4</th>\n",
              "      <td>SA</td>\n",
              "      <td>South Africa</td>\n",
              "      <td>Pretoria</td>\n",
              "      <td>1.221</td>\n",
              "      <td>52.98</td>\n",
              "    </tr>\n",
              "  </tbody>\n",
              "</table>\n",
              "</div>"
            ],
            "text/plain": [
              "  label       country    capital    area  population\n",
              "0    BR        Brazil   Brasilia   8.516      200.40\n",
              "1    RU        Russia     Moscow  17.100      143.50\n",
              "2    IN         India  New Dehli   3.286     1252.00\n",
              "3    CH         China    Beijing   9.597     1357.00\n",
              "4    SA  South Africa   Pretoria   1.221       52.98"
            ]
          },
          "execution_count": 13,
          "metadata": {},
          "output_type": "execute_result"
        }
      ],
      "source": [
        "brics_df = pd.DataFrame(brics_dict)\n",
        "brics_df"
      ]
    },
    {
      "cell_type": "markdown",
      "metadata": {
        "id": "JrxvnGp2vf9Q"
      },
      "source": [
        "Finally, we have something that actually looks like a table! It is similar to the array from before, but we have labelled the columns. We can use these labels to access them (much like in a dictionary)."
      ]
    },
    {
      "cell_type": "code",
      "execution_count": null,
      "metadata": {
        "id": "8Yx2b5Rfvf9Q",
        "outputId": "67d5403c-4504-4bc4-9783-8ee56e054493"
      },
      "outputs": [
        {
          "data": {
            "text/plain": [
              "0     Brasilia\n",
              "1       Moscow\n",
              "2    New Dehli\n",
              "3      Beijing\n",
              "4     Pretoria\n",
              "Name: capital, dtype: object"
            ]
          },
          "execution_count": 32,
          "metadata": {},
          "output_type": "execute_result"
        }
      ],
      "source": [
        "brics_df['capital']"
      ]
    },
    {
      "cell_type": "markdown",
      "metadata": {
        "id": "04bWf9U9vf9R"
      },
      "source": [
        "Next week, we will dive deeper into DataFrames and the `Pandas` package."
      ]
    }
  ],
  "metadata": {
    "kernelspec": {
      "display_name": "Python 3 (ipykernel)",
      "language": "python",
      "name": "python3"
    },
    "language_info": {
      "codemirror_mode": {
        "name": "ipython",
        "version": 3
      },
      "file_extension": ".py",
      "mimetype": "text/x-python",
      "name": "python",
      "nbconvert_exporter": "python",
      "pygments_lexer": "ipython3",
      "version": "3.9.12"
    },
    "colab": {
      "provenance": []
    }
  },
  "nbformat": 4,
  "nbformat_minor": 0
}