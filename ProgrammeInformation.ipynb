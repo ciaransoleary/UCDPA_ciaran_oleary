{
  "nbformat": 4,
  "nbformat_minor": 0,
  "metadata": {
    "colab": {
      "provenance": [],
      "authorship_tag": "ABX9TyOD02eCCuAnTLnPOWncU0XT",
      "include_colab_link": true
    },
    "kernelspec": {
      "name": "python3",
      "display_name": "Python 3"
    },
    "language_info": {
      "name": "python"
    }
  },
  "cells": [
    {
      "cell_type": "markdown",
      "metadata": {
        "id": "view-in-github",
        "colab_type": "text"
      },
      "source": [
        "<a href=\"https://colab.research.google.com/github/ciaransoleary/UCDPA_ciaran_oleary/blob/main/ProgrammeInformation.ipynb\" target=\"_parent\"><img src=\"https://colab.research.google.com/assets/colab-badge.svg\" alt=\"Open In Colab\"/></a>"
      ]
    },
    {
      "cell_type": "markdown",
      "source": [
        "# Programme Information (Example of Web Scraping and RegEx)\n",
        "This notebook provides an example on web scraping by looking up programme information on the Technological University Dublin website and displaying the following:\n",
        "* Programme Title\n",
        "* Number of Places\n",
        "* CAO Code\n",
        "* Level\n",
        "* Award\n",
        "* Duration"
      ],
      "metadata": {
        "id": "Xa94VBACemVS"
      }
    },
    {
      "cell_type": "markdown",
      "source": [
        "# Initial Imports"
      ],
      "metadata": {
        "id": "c-wJprt6fF0e"
      }
    },
    {
      "cell_type": "code",
      "source": [
        "from urllib.request import urlopen\n",
        "import re\n"
      ],
      "metadata": {
        "id": "-GJ8lAnRfCRg"
      },
      "execution_count": 1,
      "outputs": []
    },
    {
      "cell_type": "markdown",
      "source": [
        "# Open and Read Page"
      ],
      "metadata": {
        "id": "gGXyG65cfLAh"
      }
    },
    {
      "cell_type": "code",
      "source": [
        "url = \"https://www.tudublin.ie/study/undergraduate/courses/computer-science-tu856/\"\n",
        "page = urlopen(url)\n",
        "html = page.read().decode()"
      ],
      "metadata": {
        "id": "p7y1jSEbfQgF"
      },
      "execution_count": 2,
      "outputs": []
    },
    {
      "cell_type": "markdown",
      "source": [
        "# Locate the Programme Title"
      ],
      "metadata": {
        "id": "ua-em-fefWaJ"
      }
    },
    {
      "cell_type": "code",
      "source": [
        "title_start = html.find(\"<title>\") + 7;\n",
        "title_end = html.find(\"</title\");\n",
        "title = html[title_start:title_end]"
      ],
      "metadata": {
        "id": "CUWlxq7Kfncq"
      },
      "execution_count": 3,
      "outputs": []
    },
    {
      "cell_type": "markdown",
      "source": [
        "# Locate the Other Progrmame Information"
      ],
      "metadata": {
        "id": "7Yj3i0-YfpH2"
      }
    },
    {
      "cell_type": "code",
      "source": [
        "places = re.findall(r\"<h5>Number of Places</h5>\\s*<p>(?P<places>.+\\s*)</p>\", html)[0].strip()\n",
        "tu_code = re.findall(r\"<h5>TU Code</h5>\\s*<p>(?P<code>.+\\s*)</p>\", html)[0].strip()\n",
        "level = re.findall(r\"<h5>Level</h5>\\s*<p>(?P<code>.+\\s*)</p>\", html)[0].strip()\n",
        "award = re.findall(r\"<h5>Award</h5>\\s*<p>(?P<code>.+\\s*)</p>\", html)[0].strip()\n",
        "duration = re.findall(r\"<h5>Duration</h5>\\s*<p>(?P<code>.+\\s*)</p>\", html)[0].strip()\n"
      ],
      "metadata": {
        "id": "avKC9T0qfrhi"
      },
      "execution_count": 4,
      "outputs": []
    },
    {
      "cell_type": "markdown",
      "source": [
        "# Print the Programme Information"
      ],
      "metadata": {
        "id": "rkO3b3NUfvuv"
      }
    },
    {
      "cell_type": "code",
      "source": [
        "print(\"Programme Title:\", title)\n",
        "print(\"Places:\", places)\n",
        "print(\"CAO Code:\", tu_code)\n",
        "print(\"Level:\", level)\n",
        "print(\"Award:\", award)\n",
        "print(\"Duration:\", duration)"
      ],
      "metadata": {
        "colab": {
          "base_uri": "https://localhost:8080/"
        },
        "id": "qNlY6x2Pfyub",
        "outputId": "6273988b-5987-4b32-8bff-ec97a79fe4e2"
      },
      "execution_count": 5,
      "outputs": [
        {
          "output_type": "stream",
          "name": "stdout",
          "text": [
            "Programme Title: Computer Science / Ríomheolaíocht | TU Dublin\n",
            "Places: 74\n",
            "CAO Code: TU856\n",
            "Level: Level 8\n",
            "Award: Bachelor of Science (Honours)\n",
            "Duration: 4 years\n"
          ]
        }
      ]
    }
  ]
}